{
 "cells": [
  {
   "cell_type": "markdown",
   "id": "09c9f9ac-d69e-40f5-a135-55a0911e1e18",
   "metadata": {},
   "source": [
    "# Preprocessing:\n",
    "\n",
    "To better help us understand what we are looking at i am going to attempt to better orginize the data."
   ]
  },
  {
   "cell_type": "code",
   "execution_count": 1,
   "id": "de8035ca-0cba-4219-a753-a246572a8f8a",
   "metadata": {
    "tags": []
   },
   "outputs": [
    {
     "name": "stderr",
     "output_type": "stream",
     "text": [
      "[nltk_data] Downloading package stopwords to\n",
      "[nltk_data]     /Users/fermingarcia/nltk_data...\n",
      "[nltk_data]   Package stopwords is already up-to-date!\n"
     ]
    }
   ],
   "source": [
    "import unicodedata\n",
    "import re\n",
    "import json\n",
    "\n",
    "import nltk\n",
    "from nltk.tokenize.toktok import ToktokTokenizer\n",
    "from nltk.corpus import stopwords\n",
    "\n",
    "import pandas as pd\n",
    "\n",
    "\n",
    "import nlp_functions as nf "
   ]
  },
  {
   "cell_type": "code",
   "execution_count": 15,
   "id": "4501d32f-73f9-4ab6-a21f-713a31de7542",
   "metadata": {
    "tags": []
   },
   "outputs": [],
   "source": [
    "prompts = pd.read_csv(\"data/llm-detect-ai-generated-text/train_prompts.csv\")"
   ]
  },
  {
   "cell_type": "code",
   "execution_count": 3,
   "id": "e33afbde-5a50-4105-ba99-86c2a1f406ea",
   "metadata": {
    "tags": []
   },
   "outputs": [],
   "source": [
    "responses = pd.read_csv(\"data/llm-detect-ai-generated-text/train_essays.csv\")"
   ]
  },
  {
   "cell_type": "markdown",
   "id": "41b9a9d0-a0db-47eb-a64b-57af84a7f911",
   "metadata": {
    "tags": []
   },
   "source": [
    "# Adding some additional Features"
   ]
  },
  {
   "cell_type": "code",
   "execution_count": 4,
   "id": "c735aac9-baea-4834-b3a0-a9b52771f408",
   "metadata": {
    "tags": []
   },
   "outputs": [],
   "source": [
    "length = []\n",
    "\n",
    "for text in responses.text:\n",
    "    length.append(len(text))"
   ]
  },
  {
   "cell_type": "code",
   "execution_count": 5,
   "id": "88e768cf-84b7-4a5b-ae9e-cc8b1a8158f4",
   "metadata": {
    "tags": []
   },
   "outputs": [],
   "source": [
    "responses['length'] = length"
   ]
  },
  {
   "cell_type": "code",
   "execution_count": null,
   "id": "c1c62cb6-349e-48bf-9745-942242ff21ca",
   "metadata": {},
   "outputs": [],
   "source": []
  },
  {
   "cell_type": "code",
   "execution_count": 12,
   "id": "18c78afd-1124-4761-b4ba-5d36b8561f05",
   "metadata": {
    "tags": []
   },
   "outputs": [
    {
     "data": {
      "text/html": [
       "<div>\n",
       "<style scoped>\n",
       "    .dataframe tbody tr th:only-of-type {\n",
       "        vertical-align: middle;\n",
       "    }\n",
       "\n",
       "    .dataframe tbody tr th {\n",
       "        vertical-align: top;\n",
       "    }\n",
       "\n",
       "    .dataframe thead th {\n",
       "        text-align: right;\n",
       "    }\n",
       "</style>\n",
       "<table border=\"1\" class=\"dataframe\">\n",
       "  <thead>\n",
       "    <tr style=\"text-align: right;\">\n",
       "      <th></th>\n",
       "      <th>id</th>\n",
       "      <th>prompt_id</th>\n",
       "      <th>text</th>\n",
       "      <th>generated</th>\n",
       "      <th>length</th>\n",
       "    </tr>\n",
       "  </thead>\n",
       "  <tbody>\n",
       "    <tr>\n",
       "      <th>0</th>\n",
       "      <td>0059830c</td>\n",
       "      <td>0</td>\n",
       "      <td>Cars. Cars have been around since they became ...</td>\n",
       "      <td>0</td>\n",
       "      <td>3289</td>\n",
       "    </tr>\n",
       "    <tr>\n",
       "      <th>1</th>\n",
       "      <td>005db917</td>\n",
       "      <td>0</td>\n",
       "      <td>Transportation is a large necessity in most co...</td>\n",
       "      <td>0</td>\n",
       "      <td>2738</td>\n",
       "    </tr>\n",
       "    <tr>\n",
       "      <th>2</th>\n",
       "      <td>008f63e3</td>\n",
       "      <td>0</td>\n",
       "      <td>\"America's love affair with it's vehicles seem...</td>\n",
       "      <td>0</td>\n",
       "      <td>4428</td>\n",
       "    </tr>\n",
       "    <tr>\n",
       "      <th>3</th>\n",
       "      <td>00940276</td>\n",
       "      <td>0</td>\n",
       "      <td>How often do you ride in a car? Do you drive a...</td>\n",
       "      <td>0</td>\n",
       "      <td>4013</td>\n",
       "    </tr>\n",
       "    <tr>\n",
       "      <th>4</th>\n",
       "      <td>00c39458</td>\n",
       "      <td>0</td>\n",
       "      <td>Cars are a wonderful thing. They are perhaps o...</td>\n",
       "      <td>0</td>\n",
       "      <td>4698</td>\n",
       "    </tr>\n",
       "    <tr>\n",
       "      <th>...</th>\n",
       "      <td>...</td>\n",
       "      <td>...</td>\n",
       "      <td>...</td>\n",
       "      <td>...</td>\n",
       "      <td>...</td>\n",
       "    </tr>\n",
       "    <tr>\n",
       "      <th>1373</th>\n",
       "      <td>fe6ff9a5</td>\n",
       "      <td>1</td>\n",
       "      <td>There has been a fuss about the Elector Colleg...</td>\n",
       "      <td>0</td>\n",
       "      <td>2406</td>\n",
       "    </tr>\n",
       "    <tr>\n",
       "      <th>1374</th>\n",
       "      <td>ff669174</td>\n",
       "      <td>0</td>\n",
       "      <td>Limiting car usage has many advantages. Such a...</td>\n",
       "      <td>0</td>\n",
       "      <td>2073</td>\n",
       "    </tr>\n",
       "    <tr>\n",
       "      <th>1375</th>\n",
       "      <td>ffa247e0</td>\n",
       "      <td>0</td>\n",
       "      <td>There's a new trend that has been developing f...</td>\n",
       "      <td>0</td>\n",
       "      <td>4339</td>\n",
       "    </tr>\n",
       "    <tr>\n",
       "      <th>1376</th>\n",
       "      <td>ffc237e9</td>\n",
       "      <td>0</td>\n",
       "      <td>As we all know cars are a big part of our soci...</td>\n",
       "      <td>0</td>\n",
       "      <td>2810</td>\n",
       "    </tr>\n",
       "    <tr>\n",
       "      <th>1377</th>\n",
       "      <td>ffe1ca0d</td>\n",
       "      <td>0</td>\n",
       "      <td>Cars have been around since the 1800's and hav...</td>\n",
       "      <td>0</td>\n",
       "      <td>2697</td>\n",
       "    </tr>\n",
       "  </tbody>\n",
       "</table>\n",
       "<p>1378 rows × 5 columns</p>\n",
       "</div>"
      ],
      "text/plain": [
       "            id  prompt_id                                               text  \\\n",
       "0     0059830c          0  Cars. Cars have been around since they became ...   \n",
       "1     005db917          0  Transportation is a large necessity in most co...   \n",
       "2     008f63e3          0  \"America's love affair with it's vehicles seem...   \n",
       "3     00940276          0  How often do you ride in a car? Do you drive a...   \n",
       "4     00c39458          0  Cars are a wonderful thing. They are perhaps o...   \n",
       "...        ...        ...                                                ...   \n",
       "1373  fe6ff9a5          1  There has been a fuss about the Elector Colleg...   \n",
       "1374  ff669174          0  Limiting car usage has many advantages. Such a...   \n",
       "1375  ffa247e0          0  There's a new trend that has been developing f...   \n",
       "1376  ffc237e9          0  As we all know cars are a big part of our soci...   \n",
       "1377  ffe1ca0d          0  Cars have been around since the 1800's and hav...   \n",
       "\n",
       "      generated  length  \n",
       "0             0    3289  \n",
       "1             0    2738  \n",
       "2             0    4428  \n",
       "3             0    4013  \n",
       "4             0    4698  \n",
       "...         ...     ...  \n",
       "1373          0    2406  \n",
       "1374          0    2073  \n",
       "1375          0    4339  \n",
       "1376          0    2810  \n",
       "1377          0    2697  \n",
       "\n",
       "[1378 rows x 5 columns]"
      ]
     },
     "execution_count": 12,
     "metadata": {},
     "output_type": "execute_result"
    }
   ],
   "source": [
    "responses"
   ]
  },
  {
   "cell_type": "code",
   "execution_count": 21,
   "id": "dc035b4f-bcd8-4d98-a09d-d48a7ca1c376",
   "metadata": {
    "tags": []
   },
   "outputs": [
    {
     "data": {
      "text/plain": [
       "0    Write an explanatory essay to inform fellow ci...\n",
       "1    Write a letter to your state senator in which ...\n",
       "Name: instructions, dtype: object"
      ]
     },
     "execution_count": 21,
     "metadata": {},
     "output_type": "execute_result"
    }
   ],
   "source": [
    "prompts.instructions"
   ]
  },
  {
   "cell_type": "code",
   "execution_count": null,
   "id": "0f4f836c-5ab8-4024-8be1-fa5445453e61",
   "metadata": {},
   "outputs": [],
   "source": []
  },
  {
   "cell_type": "code",
   "execution_count": null,
   "id": "1df8c12d-78e0-49c3-a337-a108bec5b211",
   "metadata": {},
   "outputs": [],
   "source": []
  },
  {
   "cell_type": "code",
   "execution_count": null,
   "id": "16b7a12d-6930-4dbc-883f-6264b00623c3",
   "metadata": {},
   "outputs": [],
   "source": []
  },
  {
   "cell_type": "code",
   "execution_count": null,
   "id": "ddf80cee-60b9-4cca-8193-ebb320f00fe5",
   "metadata": {},
   "outputs": [],
   "source": []
  },
  {
   "cell_type": "code",
   "execution_count": null,
   "id": "3670d34e-fdda-4275-bbd5-798d17465579",
   "metadata": {},
   "outputs": [],
   "source": []
  },
  {
   "cell_type": "code",
   "execution_count": null,
   "id": "affd9569-c099-404b-b2b4-0d3038f4ee20",
   "metadata": {},
   "outputs": [],
   "source": []
  },
  {
   "cell_type": "code",
   "execution_count": null,
   "id": "babab118-858c-4eff-91df-828dd8eb22ad",
   "metadata": {},
   "outputs": [],
   "source": []
  },
  {
   "cell_type": "code",
   "execution_count": null,
   "id": "573423ad-336c-4d3f-b45b-54958c4d5dad",
   "metadata": {},
   "outputs": [],
   "source": []
  },
  {
   "cell_type": "code",
   "execution_count": null,
   "id": "55735d3c-c6ca-4ed1-8029-e1b1b035b277",
   "metadata": {},
   "outputs": [],
   "source": []
  },
  {
   "cell_type": "code",
   "execution_count": null,
   "id": "ad3932c5-3d39-4af8-bfa4-96819ee26fbb",
   "metadata": {},
   "outputs": [],
   "source": []
  },
  {
   "cell_type": "markdown",
   "id": "e181da50-e0be-4d26-b968-88764c94ea4d",
   "metadata": {},
   "source": [
    "# First I want all the essays only written by students."
   ]
  },
  {
   "cell_type": "code",
   "execution_count": 6,
   "id": "05406209-cb3d-41bf-855f-447cc4ef7691",
   "metadata": {
    "tags": []
   },
   "outputs": [],
   "source": [
    "student_responses = responses.loc[responses.generated == 0]"
   ]
  },
  {
   "cell_type": "markdown",
   "id": "0ab24e29-25b9-4890-a355-bdce5237094b",
   "metadata": {},
   "source": [
    "# Next I want all the AI generated responses"
   ]
  },
  {
   "cell_type": "code",
   "execution_count": 7,
   "id": "8b071ffb-90e5-4cec-a7f3-f27e2be585c7",
   "metadata": {
    "tags": []
   },
   "outputs": [],
   "source": [
    "ai_responses = responses.loc[responses.generated == 1]"
   ]
  },
  {
   "cell_type": "markdown",
   "id": "16ffaf47-07ff-4cf5-8a45-62f4f365ea43",
   "metadata": {},
   "source": [
    "# Now we are going to convert the prepare the text and save it as a csv."
   ]
  },
  {
   "cell_type": "code",
   "execution_count": 8,
   "id": "a7f7f312-b548-4907-adb3-e124b260e1f6",
   "metadata": {
    "tags": []
   },
   "outputs": [],
   "source": [
    "student_responses_stemmed = nf.stemmer_function(student_responses.text)"
   ]
  },
  {
   "cell_type": "code",
   "execution_count": 9,
   "id": "840a0642-942b-4aec-bb52-905947630383",
   "metadata": {
    "tags": []
   },
   "outputs": [],
   "source": [
    "ai_responses_stemmed = nf.stemmer_function(ai_responses.text)"
   ]
  },
  {
   "cell_type": "code",
   "execution_count": 10,
   "id": "f6d630cc-35b0-4fad-84ab-f0ccd811f4f6",
   "metadata": {
    "tags": []
   },
   "outputs": [],
   "source": [
    "# pd.Series(student_responses_stemmed).to_csv('student_responses_stemmed')"
   ]
  },
  {
   "cell_type": "code",
   "execution_count": 11,
   "id": "8492948e-f252-4012-ac7e-be8e5039e92d",
   "metadata": {
    "tags": []
   },
   "outputs": [],
   "source": [
    "# pd.Series(ai_responses_stemmed).to_csv('ai_responses_stemmed')"
   ]
  }
 ],
 "metadata": {
  "kernelspec": {
   "display_name": "Python 3 (ipykernel)",
   "language": "python",
   "name": "python3"
  },
  "language_info": {
   "codemirror_mode": {
    "name": "ipython",
    "version": 3
   },
   "file_extension": ".py",
   "mimetype": "text/x-python",
   "name": "python",
   "nbconvert_exporter": "python",
   "pygments_lexer": "ipython3",
   "version": "3.11.3"
  }
 },
 "nbformat": 4,
 "nbformat_minor": 5
}
